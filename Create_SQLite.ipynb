{
 "cells": [
  {
   "cell_type": "code",
   "execution_count": 2,
   "metadata": {},
   "outputs": [
    {
     "ename": "FileNotFoundError",
     "evalue": "[Errno 2] No such file or directory: '\\\\data\\\\city.sqlite'",
     "output_type": "error",
     "traceback": [
      "\u001b[1;31m---------------------------------------------------------------------------\u001b[0m",
      "\u001b[1;31mFileNotFoundError\u001b[0m                         Traceback (most recent call last)",
      "Cell \u001b[1;32mIn[2], line 9\u001b[0m\n\u001b[0;32m      6\u001b[0m \u001b[39mfrom\u001b[39;00m \u001b[39mpathlib\u001b[39;00m \u001b[39mimport\u001b[39;00m Path\n\u001b[0;32m      8\u001b[0m city_path \u001b[39m=\u001b[39m \u001b[39m\"\u001b[39m\u001b[39m/data/city.sqlite\u001b[39m\u001b[39m\"\u001b[39m\n\u001b[1;32m----> 9\u001b[0m Path(city_path)\u001b[39m.\u001b[39;49mtouch()\n\u001b[0;32m     11\u001b[0m conn \u001b[39m=\u001b[39m sqlite3\u001b[39m.\u001b[39mconnect(city_path)\n\u001b[0;32m     12\u001b[0m c \u001b[39m=\u001b[39m conn\u001b[39m.\u001b[39mcursor()\n",
      "File \u001b[1;32mc:\\Users\\smoot\\anaconda3\\envs\\dev\\lib\\pathlib.py:1168\u001b[0m, in \u001b[0;36mPath.touch\u001b[1;34m(self, mode, exist_ok)\u001b[0m\n\u001b[0;32m   1164\u001b[0m \u001b[39mdef\u001b[39;00m \u001b[39mtouch\u001b[39m(\u001b[39mself\u001b[39m, mode\u001b[39m=\u001b[39m\u001b[39m0o666\u001b[39m, exist_ok\u001b[39m=\u001b[39m\u001b[39mTrue\u001b[39;00m):\n\u001b[0;32m   1165\u001b[0m \u001b[39m    \u001b[39m\u001b[39m\"\"\"\u001b[39;00m\n\u001b[0;32m   1166\u001b[0m \u001b[39m    Create this file with the given access mode, if it doesn't exist.\u001b[39;00m\n\u001b[0;32m   1167\u001b[0m \u001b[39m    \"\"\"\u001b[39;00m\n\u001b[1;32m-> 1168\u001b[0m     \u001b[39mself\u001b[39;49m\u001b[39m.\u001b[39;49m_accessor\u001b[39m.\u001b[39;49mtouch(\u001b[39mself\u001b[39;49m, mode, exist_ok)\n",
      "File \u001b[1;32mc:\\Users\\smoot\\anaconda3\\envs\\dev\\lib\\pathlib.py:331\u001b[0m, in \u001b[0;36m_NormalAccessor.touch\u001b[1;34m(self, path, mode, exist_ok)\u001b[0m\n\u001b[0;32m    329\u001b[0m \u001b[39mif\u001b[39;00m \u001b[39mnot\u001b[39;00m exist_ok:\n\u001b[0;32m    330\u001b[0m     flags \u001b[39m|\u001b[39m\u001b[39m=\u001b[39m os\u001b[39m.\u001b[39mO_EXCL\n\u001b[1;32m--> 331\u001b[0m fd \u001b[39m=\u001b[39m os\u001b[39m.\u001b[39;49mopen(path, flags, mode)\n\u001b[0;32m    332\u001b[0m os\u001b[39m.\u001b[39mclose(fd)\n",
      "\u001b[1;31mFileNotFoundError\u001b[0m: [Errno 2] No such file or directory: '\\\\data\\\\city.sqlite'"
     ]
    }
   ],
   "source": [
    "#!/usr/bin/env python3\n",
    "\n",
    "import sqlite3\n",
    "import pandas as pd\n",
    "\n",
    "from pathlib import Path\n",
    "\n",
    "city_path = \"../data/city.sqlite\"\n",
    "Path(city_path).touch()\n",
    "\n",
    "conn = sqlite3.connect(city_path)\n",
    "c = conn.cursor()\n",
    "\n",
    "c.execute('''CREATE TABLE IF NOT EXISTS public.\"AirQuality_City_2022\" ( \"City\" character varying(100) COLLATE pg_catalog.\"default\" NOT NULL, \"State\" character varying(100) COLLATE pg_catalog.\"default\" NOT NULL, \"Population\" integer, \"CBSA Code\" integer, \"CO\" numeric, \"Pb\" numeric, \"NO2 (AM)\" numeric, \"NO2 (1hr)\" numeric, \"O3\" numeric, \"PM10\" numeric, \"PM2.5 (WAM)\" numeric, \"PM2.5 (24hr)\" numeric, \"SO2\" numeric, CONSTRAINT \"AirQuality_City_2022_pkey\" PRIMARY KEY (\"City\", \"State\") )''')\n",
    "\n",
    "csv_city = pd.read_csv(\"../data/AirQuality_City_2022.csv\")\n",
    "csv_city.to_sql(\"city\", conn, if_exists='append', index=False)\n",
    "\n",
    "conn.close()"
   ]
  },
  {
   "cell_type": "code",
   "execution_count": 3,
   "metadata": {},
   "outputs": [
    {
     "ename": "FileNotFoundError",
     "evalue": "[Errno 2] No such file or directory: '..\\\\data\\\\city.sqlite'",
     "output_type": "error",
     "traceback": [
      "\u001b[1;31m---------------------------------------------------------------------------\u001b[0m",
      "\u001b[1;31mFileNotFoundError\u001b[0m                         Traceback (most recent call last)",
      "Cell \u001b[1;32mIn[3], line 7\u001b[0m\n\u001b[0;32m      4\u001b[0m \u001b[39mfrom\u001b[39;00m \u001b[39mpathlib\u001b[39;00m \u001b[39mimport\u001b[39;00m Path\n\u001b[0;32m      6\u001b[0m city_path \u001b[39m=\u001b[39m \u001b[39m\"\u001b[39m\u001b[39m../data/city.sqlite\u001b[39m\u001b[39m\"\u001b[39m\n\u001b[1;32m----> 7\u001b[0m Path(city_path)\u001b[39m.\u001b[39;49mtouch()\n",
      "File \u001b[1;32mc:\\Users\\smoot\\anaconda3\\envs\\dev\\lib\\pathlib.py:1168\u001b[0m, in \u001b[0;36mPath.touch\u001b[1;34m(self, mode, exist_ok)\u001b[0m\n\u001b[0;32m   1164\u001b[0m \u001b[39mdef\u001b[39;00m \u001b[39mtouch\u001b[39m(\u001b[39mself\u001b[39m, mode\u001b[39m=\u001b[39m\u001b[39m0o666\u001b[39m, exist_ok\u001b[39m=\u001b[39m\u001b[39mTrue\u001b[39;00m):\n\u001b[0;32m   1165\u001b[0m \u001b[39m    \u001b[39m\u001b[39m\"\"\"\u001b[39;00m\n\u001b[0;32m   1166\u001b[0m \u001b[39m    Create this file with the given access mode, if it doesn't exist.\u001b[39;00m\n\u001b[0;32m   1167\u001b[0m \u001b[39m    \"\"\"\u001b[39;00m\n\u001b[1;32m-> 1168\u001b[0m     \u001b[39mself\u001b[39;49m\u001b[39m.\u001b[39;49m_accessor\u001b[39m.\u001b[39;49mtouch(\u001b[39mself\u001b[39;49m, mode, exist_ok)\n",
      "File \u001b[1;32mc:\\Users\\smoot\\anaconda3\\envs\\dev\\lib\\pathlib.py:331\u001b[0m, in \u001b[0;36m_NormalAccessor.touch\u001b[1;34m(self, path, mode, exist_ok)\u001b[0m\n\u001b[0;32m    329\u001b[0m \u001b[39mif\u001b[39;00m \u001b[39mnot\u001b[39;00m exist_ok:\n\u001b[0;32m    330\u001b[0m     flags \u001b[39m|\u001b[39m\u001b[39m=\u001b[39m os\u001b[39m.\u001b[39mO_EXCL\n\u001b[1;32m--> 331\u001b[0m fd \u001b[39m=\u001b[39m os\u001b[39m.\u001b[39;49mopen(path, flags, mode)\n\u001b[0;32m    332\u001b[0m os\u001b[39m.\u001b[39mclose(fd)\n",
      "\u001b[1;31mFileNotFoundError\u001b[0m: [Errno 2] No such file or directory: '..\\\\data\\\\city.sqlite'"
     ]
    }
   ],
   "source": [
    "import sqlite3\n",
    "import pandas as pd\n",
    "\n",
    "from pathlib import Path\n",
    "\n",
    "city_path = \"../data/city.sqlite\"\n",
    "Path(city_path).touch()"
   ]
  }
 ],
 "metadata": {
  "kernelspec": {
   "display_name": "dev",
   "language": "python",
   "name": "python3"
  },
  "language_info": {
   "codemirror_mode": {
    "name": "ipython",
    "version": 3
   },
   "file_extension": ".py",
   "mimetype": "text/x-python",
   "name": "python",
   "nbconvert_exporter": "python",
   "pygments_lexer": "ipython3",
   "version": "3.10.11"
  },
  "orig_nbformat": 4
 },
 "nbformat": 4,
 "nbformat_minor": 2
}
